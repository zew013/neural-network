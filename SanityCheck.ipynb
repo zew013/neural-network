{
 "cells": [
  {
   "cell_type": "code",
   "execution_count": 1,
   "outputs": [],
   "source": [
    "from util import *\n",
    "from neuralnet import *"
   ],
   "metadata": {
    "collapsed": false
   }
  },
  {
   "cell_type": "code",
   "execution_count": 1,
   "outputs": [],
   "source": [],
   "metadata": {
    "collapsed": false
   }
  },
  {
   "cell_type": "code",
   "execution_count": 2,
   "outputs": [],
   "source": [
    "train_dataset, val_dataset, test_dataset = load_data('./data/')"
   ],
   "metadata": {
    "collapsed": false
   }
  },
  {
   "cell_type": "code",
   "execution_count": 3,
   "outputs": [
    {
     "data": {
      "text/plain": "((40000, 3073), (10000, 3073), (10000, 3073))"
     },
     "execution_count": 3,
     "metadata": {},
     "output_type": "execute_result"
    }
   ],
   "source": [
    "train_dataset.X.shape, val_dataset.X.shape, test_dataset.X.shape"
   ],
   "metadata": {
    "collapsed": false
   }
  },
  {
   "cell_type": "code",
   "execution_count": 198,
   "outputs": [
    {
     "data": {
      "text/plain": "1.0000000000000013"
     },
     "execution_count": 198,
     "metadata": {},
     "output_type": "execute_result"
    }
   ],
   "source": [
    "train_dataset.X[:,:-1].reshape((-1, 3, IMAGE_SIZE * IMAGE_SIZE))[:, 0, :].std() # should be 1"
   ],
   "metadata": {
    "collapsed": false
   }
  },
  {
   "cell_type": "code",
   "execution_count": 10,
   "outputs": [
    {
     "data": {
      "text/plain": "(0.22134858079888198, 0.901623064354778)"
     },
     "execution_count": 10,
     "metadata": {},
     "output_type": "execute_result"
    }
   ],
   "source": [
    "train_dataset.X[42].mean(), train_dataset.X[42].std()"
   ],
   "metadata": {
    "collapsed": false
   }
  },
  {
   "cell_type": "code",
   "execution_count": 199,
   "outputs": [
    {
     "data": {
      "text/plain": "4.0"
     },
     "execution_count": 199,
     "metadata": {},
     "output_type": "execute_result"
    }
   ],
   "source": [
    "train_dataset.X.shape[0] / val_dataset.X.shape[0] # should be 4 assuming 0.2 val proportion"
   ],
   "metadata": {
    "collapsed": false
   }
  },
  {
   "cell_type": "code",
   "execution_count": 200,
   "outputs": [
    {
     "data": {
      "text/plain": "(40000, 10)"
     },
     "execution_count": 200,
     "metadata": {},
     "output_type": "execute_result"
    }
   ],
   "source": [
    "train_dataset.t.shape"
   ],
   "metadata": {
    "collapsed": false
   }
  },
  {
   "cell_type": "code",
   "execution_count": 201,
   "outputs": [],
   "source": [
    "from constants import configYamlPath\n",
    "from configuration import load_config\n",
    "\n",
    "c = load_config(f\"{configYamlPath}/config_2c.yaml\")"
   ],
   "metadata": {
    "collapsed": false
   }
  },
  {
   "cell_type": "code",
   "execution_count": 202,
   "outputs": [
    {
     "data": {
      "text/plain": "Config(layer_specs=[3072, 128, 256, 10], activation='tanh', learning_rate=0.01, batch_size=64, epochs=100, early_stop=True, early_stop_epoch=5, regularization_type='L2', regularization_lambda=0.01, momentum=True, momentum_gamma=0.9, weight_type='random')"
     },
     "execution_count": 202,
     "metadata": {},
     "output_type": "execute_result"
    }
   ],
   "source": [
    "c"
   ],
   "metadata": {
    "collapsed": false
   }
  },
  {
   "cell_type": "code",
   "execution_count": 203,
   "outputs": [
    {
     "data": {
      "text/plain": "(64, 3073)"
     },
     "execution_count": 203,
     "metadata": {},
     "output_type": "execute_result"
    }
   ],
   "source": [
    "gm = generate_minibatches(train_dataset, 64)\n",
    "next(gm).X.shape"
   ],
   "metadata": {
    "collapsed": false
   }
  },
  {
   "cell_type": "code",
   "execution_count": 204,
   "outputs": [],
   "source": [
    "model = Neuralnetwork(c)"
   ],
   "metadata": {
    "collapsed": false
   }
  },
  {
   "cell_type": "code",
   "execution_count": 205,
   "outputs": [
    {
     "data": {
      "text/plain": "[Layer 0: 3072 -> 128 (tanh), Layer 1: 128 -> 256 (tanh), Layer 2: 256 -> 10 (output)]"
     },
     "execution_count": 205,
     "metadata": {},
     "output_type": "execute_result"
    }
   ],
   "source": [
    "model"
   ],
   "metadata": {
    "collapsed": false
   }
  },
  {
   "cell_type": "code",
   "execution_count": 206,
   "outputs": [
    {
     "name": "stdout",
     "output_type": "stream",
     "text": [
      "(64, 3073)\n",
      "(64, 129)\n",
      "(64, 257)\n"
     ]
    },
    {
     "data": {
      "text/plain": "(array([[0.0985364 , 0.10320475, 0.09987519, 0.10064841, 0.10172169,\n         0.10407718, 0.09420625, 0.09983779, 0.09928047, 0.09861187],\n        [0.10211749, 0.09725643, 0.09925212, 0.09849599, 0.09812049,\n         0.09562591, 0.10568763, 0.09973551, 0.10137081, 0.10233764],\n        [0.10212119, 0.09724971, 0.09925108, 0.09849373, 0.09811628,\n         0.09561685, 0.10570101, 0.0997353 , 0.101373  , 0.10234185],\n        [0.10212136, 0.0972494 , 0.09925104, 0.09849362, 0.0981161 ,\n         0.09561644, 0.1057016 , 0.0997353 , 0.1013731 , 0.10234204],\n        [0.10212096, 0.09725012, 0.09925115, 0.09849388, 0.09811654,\n         0.09561741, 0.10570017, 0.09973531, 0.10137286, 0.10234158],\n        [0.10180711, 0.0978171 , 0.09933719, 0.09868512, 0.09846432,\n         0.09637405, 0.10458782, 0.09974702, 0.10119484, 0.10198543],\n        [0.09848124, 0.10330055, 0.09988427, 0.10067659, 0.10177646,\n         0.1042117 , 0.09403754, 0.09983368, 0.09924668, 0.0985513 ],\n        [0.10212136, 0.0972494 , 0.09925104, 0.09849362, 0.0981161 ,\n         0.09561644, 0.1057016 , 0.0997353 , 0.1013731 , 0.10234204],\n        [0.09848172, 0.10329972, 0.09988419, 0.10067634, 0.10177597,\n         0.10421054, 0.09403899, 0.09983371, 0.09924698, 0.09855183],\n        [0.09848931, 0.10328629, 0.09988312, 0.10067196, 0.10176866,\n         0.1041918 , 0.09406223, 0.09983413, 0.09925155, 0.09856096],\n        [0.09848972, 0.10328553, 0.09988261, 0.10067207, 0.10176778,\n         0.10419095, 0.09406372, 0.09983422, 0.09925215, 0.09856124],\n        [0.09848124, 0.10330055, 0.09988427, 0.10067659, 0.10177646,\n         0.1042117 , 0.09403754, 0.09983368, 0.09924668, 0.0985513 ],\n        [0.10046564, 0.10001913, 0.09960169, 0.09951636, 0.09982549,\n         0.09948828, 0.10019841, 0.09982827, 0.10043205, 0.10062468],\n        [0.09848124, 0.10330055, 0.09988427, 0.10067659, 0.10177646,\n         0.1042117 , 0.09403754, 0.09983368, 0.09924668, 0.0985513 ],\n        [0.09954825, 0.10152229, 0.09972203, 0.10007472, 0.10072778,\n         0.10164228, 0.09732822, 0.09984456, 0.09989156, 0.09969832],\n        [0.09848266, 0.10329804, 0.09988403, 0.10067584, 0.10177497,\n         0.10420826, 0.09404194, 0.09983377, 0.09924759, 0.0985529 ],\n        [0.10206689, 0.0973479 , 0.09926677, 0.09852731, 0.09817559,\n         0.09574623, 0.10551065, 0.0997366 , 0.10134101, 0.10228106],\n        [0.10212134, 0.09724944, 0.09925105, 0.09849364, 0.09811612,\n         0.09561649, 0.10570152, 0.0997353 , 0.10137308, 0.10234202],\n        [0.09848124, 0.10330055, 0.09988427, 0.10067659, 0.10177646,\n         0.1042117 , 0.09403754, 0.09983368, 0.09924668, 0.0985513 ],\n        [0.09849459, 0.10327704, 0.09988228, 0.10066946, 0.1017626 ,\n         0.10417879, 0.09407899, 0.09983457, 0.09925502, 0.09856667],\n        [0.10208136, 0.09732311, 0.09926228, 0.0985194 , 0.09816248,\n         0.09571337, 0.10555853, 0.0997367 , 0.10134768, 0.1022951 ],\n        [0.10138775, 0.09851972, 0.09941126, 0.09897032, 0.09888834,\n         0.09734038, 0.10320454, 0.09977576, 0.10094169, 0.10156023],\n        [0.09898708, 0.10243018, 0.09980104, 0.10038499, 0.10126547,\n         0.10297632, 0.09561476, 0.09986527, 0.09956722, 0.09910767],\n        [0.10149327, 0.09834849, 0.0993895 , 0.09888274, 0.09879993,\n         0.09710723, 0.10354011, 0.09975036, 0.10101357, 0.10167481],\n        [0.10212134, 0.09724943, 0.09925104, 0.09849364, 0.09811611,\n         0.09561648, 0.10570154, 0.0997353 , 0.10137309, 0.10234202],\n        [0.10212136, 0.0972494 , 0.09925104, 0.09849363, 0.0981161 ,\n         0.09561644, 0.1057016 , 0.0997353 , 0.1013731 , 0.10234204],\n        [0.09848124, 0.10330055, 0.09988427, 0.10067659, 0.10177646,\n         0.1042117 , 0.09403754, 0.09983368, 0.09924668, 0.0985513 ],\n        [0.09848124, 0.10330055, 0.09988427, 0.10067659, 0.10177646,\n         0.1042117 , 0.09403754, 0.09983368, 0.09924668, 0.0985513 ],\n        [0.10212074, 0.09725052, 0.09925121, 0.09849399, 0.09811675,\n         0.09561792, 0.10569943, 0.09973534, 0.10137276, 0.10234134],\n        [0.09964089, 0.10134673, 0.09972386, 0.10000037, 0.10060179,\n         0.10141261, 0.09765362, 0.09984022, 0.09998797, 0.09979196],\n        [0.10212134, 0.09724943, 0.09925104, 0.09849363, 0.09811611,\n         0.09561647, 0.10570156, 0.0997353 , 0.10137309, 0.10234203],\n        [0.09848124, 0.10330055, 0.09988427, 0.10067659, 0.10177646,\n         0.1042117 , 0.09403754, 0.09983368, 0.09924668, 0.0985513 ],\n        [0.09848701, 0.1032907 , 0.09988325, 0.10067351, 0.10177053,\n         0.1041977 , 0.0940552 , 0.09983411, 0.09925022, 0.09855776],\n        [0.1021039 , 0.09728092, 0.09925596, 0.09850456, 0.09813586,\n         0.09565883, 0.10563964, 0.09973542, 0.10136268, 0.10232223],\n        [0.10212136, 0.0972494 , 0.09925104, 0.09849362, 0.0981161 ,\n         0.09561644, 0.1057016 , 0.0997353 , 0.1013731 , 0.10234204],\n        [0.09848124, 0.10330055, 0.09988427, 0.10067659, 0.10177646,\n         0.1042117 , 0.09403754, 0.09983368, 0.09924668, 0.0985513 ],\n        [0.09951077, 0.10156299, 0.09973966, 0.10010083, 0.10076217,\n         0.10171822, 0.09722377, 0.09987604, 0.09985498, 0.09965058],\n        [0.09879046, 0.10276999, 0.09983711, 0.10050981, 0.10145894,\n         0.10345981, 0.0949997 , 0.09984929, 0.09944307, 0.09888182],\n        [0.09848127, 0.10330051, 0.09988426, 0.10067658, 0.10177643,\n         0.10421164, 0.09403761, 0.09983368, 0.0992467 , 0.09855133],\n        [0.09848124, 0.10330055, 0.09988427, 0.10067659, 0.10177646,\n         0.1042117 , 0.09403754, 0.09983368, 0.09924668, 0.0985513 ],\n        [0.10212136, 0.0972494 , 0.09925104, 0.09849362, 0.0981161 ,\n         0.09561644, 0.1057016 , 0.0997353 , 0.1013731 , 0.10234204],\n        [0.10212136, 0.0972494 , 0.09925104, 0.09849362, 0.0981161 ,\n         0.09561644, 0.1057016 , 0.0997353 , 0.1013731 , 0.10234204],\n        [0.09848882, 0.1032872 , 0.09988297, 0.1006727 , 0.10176893,\n         0.10419237, 0.09406145, 0.09983404, 0.0992515 , 0.09856001],\n        [0.10188781, 0.0976738 , 0.09931271, 0.09863981, 0.09837551,\n         0.09619036, 0.10487115, 0.09973655, 0.10123597, 0.10207632],\n        [0.09887835, 0.10258759, 0.09981912, 0.10046087, 0.10138846,\n         0.10323356, 0.09528796, 0.09985446, 0.09949188, 0.09899776],\n        [0.09848127, 0.10330049, 0.09988426, 0.10067657, 0.10177643,\n         0.10421162, 0.09403764, 0.09983368, 0.0992467 , 0.09855134],\n        [0.10208202, 0.09732002, 0.09926046, 0.09851826, 0.09816055,\n         0.0957104 , 0.10556273, 0.09973644, 0.10135065, 0.10229847],\n        [0.09850285, 0.10326199, 0.09988064, 0.10066506, 0.10175409,\n         0.10415834, 0.09410514, 0.09983485, 0.09926033, 0.0985767 ],\n        [0.09848124, 0.10330055, 0.09988427, 0.10067659, 0.10177646,\n         0.1042117 , 0.09403754, 0.09983368, 0.09924668, 0.0985513 ],\n        [0.09850754, 0.10325448, 0.09987939, 0.10066227, 0.10174981,\n         0.10414727, 0.09411919, 0.09983465, 0.09926341, 0.098582  ],\n        [0.10212121, 0.09724966, 0.09925108, 0.09849372, 0.09811626,\n         0.09561679, 0.1057011 , 0.0997353 , 0.10137302, 0.10234187],\n        [0.09848786, 0.1032891 , 0.09988318, 0.10067313, 0.10176957,\n         0.10419517, 0.09405801, 0.09983442, 0.09925068, 0.09855887],\n        [0.10212121, 0.09724966, 0.09925108, 0.09849372, 0.09811625,\n         0.09561678, 0.1057011 , 0.09973531, 0.10137301, 0.10234188],\n        [0.09859953, 0.10308471, 0.09986506, 0.10061306, 0.10165011,\n         0.10390712, 0.09441947, 0.09984684, 0.09931955, 0.09869455],\n        [0.09874211, 0.10284553, 0.09984889, 0.1005315 , 0.10150337,\n         0.10356581, 0.09485317, 0.09984542, 0.09941607, 0.09884813],\n        [0.1017982 , 0.09783841, 0.09934306, 0.09869313, 0.09848376,\n         0.09636762, 0.1045663 , 0.09974851, 0.10117512, 0.10198589],\n        [0.10212136, 0.0972494 , 0.09925104, 0.09849362, 0.0981161 ,\n         0.09561644, 0.1057016 , 0.0997353 , 0.1013731 , 0.10234204],\n        [0.09849736, 0.10327176, 0.09988162, 0.10066822, 0.10176034,\n         0.10417237, 0.09408716, 0.09983514, 0.09925659, 0.09856944],\n        [0.10212133, 0.09724945, 0.09925105, 0.09849364, 0.09811612,\n         0.09561649, 0.10570152, 0.0997353 , 0.10137309, 0.10234201],\n        [0.0986364 , 0.10302094, 0.09985845, 0.10059044, 0.10162194,\n         0.10383028, 0.09452196, 0.09984047, 0.0993489 , 0.09873022],\n        [0.10212136, 0.0972494 , 0.09925104, 0.09849362, 0.0981161 ,\n         0.09561644, 0.1057016 , 0.0997353 , 0.1013731 , 0.10234204],\n        [0.09848142, 0.10330024, 0.09988423, 0.1006765 , 0.10177628,\n         0.10421127, 0.09403808, 0.09983368, 0.0992468 , 0.09855151],\n        [0.09848124, 0.10330055, 0.09988427, 0.10067659, 0.10177646,\n         0.1042117 , 0.09403754, 0.09983368, 0.09924668, 0.0985513 ],\n        [0.09891218, 0.10255711, 0.09982586, 0.10043169, 0.10133046,\n         0.10314728, 0.09537581, 0.09985292, 0.09952393, 0.09904274]]),\n ModelResult(loss=147.09729523709737, accuracy=0.125))"
     },
     "execution_count": 206,
     "metadata": {},
     "output_type": "execute_result"
    }
   ],
   "source": [
    "batch = next(gm)\n",
    "model.forward(batch.X, batch.t)"
   ],
   "metadata": {
    "collapsed": false
   }
  },
  {
   "cell_type": "code",
   "execution_count": 207,
   "outputs": [
    {
     "data": {
      "text/plain": "array([[-0.05166751, -0.00404233,  0.15470827, ...,  0.03217787,\n         0.16711652,  1.        ],\n       [ 0.99608642,  0.99608642,  1.01196147, ..., -0.79244722,\n        -0.83742677,  1.        ],\n       [ 1.02783653,  0.99608642,  0.99608642, ...,  0.04717105,\n         0.15212334,  1.        ],\n       ...,\n       [ 0.39283416,  0.39283416,  0.40870922, ..., -0.49258355,\n        -0.447604  ,  1.        ],\n       [-0.24216822, -0.30566846, -0.19454304, ..., -0.65750857,\n        -0.43261082,  1.        ],\n       [-0.25804328, -0.32154352, -0.1310428 , ..., -0.95737224,\n        -1.06232453,  1.        ]])"
     },
     "execution_count": 207,
     "metadata": {},
     "output_type": "execute_result"
    }
   ],
   "source": [
    "train_dataset.X[:10]"
   ],
   "metadata": {
    "collapsed": false
   }
  },
  {
   "cell_type": "code",
   "execution_count": 208,
   "outputs": [
    {
     "data": {
      "text/plain": "array([[-0.05166751, -0.00404233,  0.15470827, ...,  0.03217787,\n         0.16711652,  1.        ],\n       [ 0.99608642,  0.99608642,  1.01196147, ..., -0.79244722,\n        -0.83742677,  1.        ],\n       [ 1.02783653,  0.99608642,  0.99608642, ...,  0.04717105,\n         0.15212334,  1.        ],\n       ...,\n       [ 0.39283416,  0.39283416,  0.40870922, ..., -0.49258355,\n        -0.447604  ,  1.        ],\n       [-0.24216822, -0.30566846, -0.19454304, ..., -0.65750857,\n        -0.43261082,  1.        ],\n       [-0.25804328, -0.32154352, -0.1310428 , ..., -0.95737224,\n        -1.06232453,  1.        ]])"
     },
     "execution_count": 208,
     "metadata": {},
     "output_type": "execute_result"
    }
   ],
   "source": [
    "x_ = train_dataset.X[:10]\n",
    "x_"
   ],
   "metadata": {
    "collapsed": false
   }
  },
  {
   "cell_type": "code",
   "execution_count": 215,
   "outputs": [
    {
     "name": "stdout",
     "output_type": "stream",
     "text": [
      "----\n"
     ]
    },
    {
     "data": {
      "text/plain": "(10, 3073)"
     },
     "metadata": {},
     "output_type": "display_data"
    },
    {
     "data": {
      "text/plain": "(10, 3073)"
     },
     "metadata": {},
     "output_type": "display_data"
    },
    {
     "name": "stdout",
     "output_type": "stream",
     "text": [
      "----\n"
     ]
    },
    {
     "data": {
      "text/plain": "(10, 3073)"
     },
     "metadata": {},
     "output_type": "display_data"
    },
    {
     "data": {
      "text/plain": "(10, 3073)"
     },
     "metadata": {},
     "output_type": "display_data"
    },
    {
     "name": "stdout",
     "output_type": "stream",
     "text": [
      "----\n"
     ]
    },
    {
     "data": {
      "text/plain": "(10, 3073)"
     },
     "metadata": {},
     "output_type": "display_data"
    },
    {
     "data": {
      "text/plain": "(10, 3073)"
     },
     "metadata": {},
     "output_type": "display_data"
    },
    {
     "name": "stdout",
     "output_type": "stream",
     "text": [
      "----\n"
     ]
    },
    {
     "data": {
      "text/plain": "(10, 3073)"
     },
     "metadata": {},
     "output_type": "display_data"
    },
    {
     "data": {
      "text/plain": "(10, 3073)"
     },
     "metadata": {},
     "output_type": "display_data"
    }
   ],
   "source": [
    "for a in [\"sigmoid\", \"tanh\", \"ReLU\", \"output\"]:\n",
    "    act = Activation(a)\n",
    "    print(\"----\")\n",
    "    display(act.forward(x_).shape)\n",
    "    display(act.backward(x_).shape)"
   ],
   "metadata": {
    "collapsed": false
   }
  },
  {
   "cell_type": "code",
   "execution_count": 225,
   "outputs": [
    {
     "name": "stderr",
     "output_type": "stream",
     "text": [
      "  0%|          | 0/100 [00:04<?, ?it/s]"
     ]
    },
    {
     "name": "stdout",
     "output_type": "stream",
     "text": [
      "Unexpected exception formatting exception. Falling back to standard exception\n"
     ]
    },
    {
     "name": "stderr",
     "output_type": "stream",
     "text": [
      "\n",
      "Traceback (most recent call last):\n",
      "  File \"/usr/local/Caskroom/miniconda/base/envs/cse-151b/lib/python3.10/site-packages/IPython/core/interactiveshell.py\", line 3398, in run_code\n",
      "    exec(code_obj, self.user_global_ns, self.user_ns)\n",
      "  File \"/var/folders/_5/3wr8xblj56dd_xpscf0zt6t00000gn/T/ipykernel_73250/3093267326.py\", line 3, in <cell line: 3>\n",
      "    train(model, train_dataset, val_dataset, c)\n",
      "  File \"/Users/xiyan/Developer/cse-151b-pa2-xys_yxc_zlw/train.py\", line 34, in train\n",
      "    train_result = sgd(model, train_dataset, config)\n",
      "  File \"/Users/xiyan/Developer/cse-151b-pa2-xys_yxc_zlw/train.py\", line 66, in sgd\n",
      "    _, forward_res = model.forward(batch.X, batch.t)\n",
      "  File \"/Users/xiyan/Developer/cse-151b-pa2-xys_yxc_zlw/neuralnet.py\", line 253, in forward\n",
      "    output = reduce(lambda fst, snd: append_bias(snd(fst)), self.layers, x)[:, :-1]\n",
      "  File \"/Users/xiyan/Developer/cse-151b-pa2-xys_yxc_zlw/neuralnet.py\", line 253, in <lambda>\n",
      "    output = reduce(lambda fst, snd: append_bias(snd(fst)), self.layers, x)[:, :-1]\n",
      "  File \"/Users/xiyan/Developer/cse-151b-pa2-xys_yxc_zlw/neuralnet.py\", line 150, in __call__\n",
      "    return self.forward(x)\n",
      "  File \"/Users/xiyan/Developer/cse-151b-pa2-xys_yxc_zlw/neuralnet.py\", line 155, in forward\n",
      "    self.z = self.activation(self.a)\n",
      "  File \"/Users/xiyan/Developer/cse-151b-pa2-xys_yxc_zlw/neuralnet.py\", line 30, in __call__\n",
      "    return self.forward(z)\n",
      "AttributeError: 'Activation' object has no attribute 'forward'\n",
      "\n",
      "During handling of the above exception, another exception occurred:\n",
      "\n",
      "Traceback (most recent call last):\n",
      "  File \"/usr/local/Caskroom/miniconda/base/envs/cse-151b/lib/python3.10/site-packages/IPython/core/interactiveshell.py\", line 1993, in showtraceback\n",
      "    stb = self.InteractiveTB.structured_traceback(\n",
      "  File \"/usr/local/Caskroom/miniconda/base/envs/cse-151b/lib/python3.10/site-packages/IPython/core/ultratb.py\", line 1118, in structured_traceback\n",
      "    return FormattedTB.structured_traceback(\n",
      "  File \"/usr/local/Caskroom/miniconda/base/envs/cse-151b/lib/python3.10/site-packages/IPython/core/ultratb.py\", line 1012, in structured_traceback\n",
      "    return VerboseTB.structured_traceback(\n",
      "  File \"/usr/local/Caskroom/miniconda/base/envs/cse-151b/lib/python3.10/site-packages/IPython/core/ultratb.py\", line 865, in structured_traceback\n",
      "    formatted_exception = self.format_exception_as_a_whole(etype, evalue, etb, number_of_lines_of_context,\n",
      "  File \"/usr/local/Caskroom/miniconda/base/envs/cse-151b/lib/python3.10/site-packages/IPython/core/ultratb.py\", line 818, in format_exception_as_a_whole\n",
      "    frames.append(self.format_record(r))\n",
      "  File \"/usr/local/Caskroom/miniconda/base/envs/cse-151b/lib/python3.10/site-packages/IPython/core/ultratb.py\", line 736, in format_record\n",
      "    result += ''.join(_format_traceback_lines(frame_info.lines, Colors, self.has_colors, lvals))\n",
      "  File \"/usr/local/Caskroom/miniconda/base/envs/cse-151b/lib/python3.10/site-packages/stack_data/utils.py\", line 145, in cached_property_wrapper\n",
      "    value = obj.__dict__[self.func.__name__] = self.func(obj)\n",
      "  File \"/usr/local/Caskroom/miniconda/base/envs/cse-151b/lib/python3.10/site-packages/stack_data/core.py\", line 698, in lines\n",
      "    pieces = self.included_pieces\n",
      "  File \"/usr/local/Caskroom/miniconda/base/envs/cse-151b/lib/python3.10/site-packages/stack_data/utils.py\", line 145, in cached_property_wrapper\n",
      "    value = obj.__dict__[self.func.__name__] = self.func(obj)\n",
      "  File \"/usr/local/Caskroom/miniconda/base/envs/cse-151b/lib/python3.10/site-packages/stack_data/core.py\", line 649, in included_pieces\n",
      "    pos = scope_pieces.index(self.executing_piece)\n",
      "  File \"/usr/local/Caskroom/miniconda/base/envs/cse-151b/lib/python3.10/site-packages/stack_data/utils.py\", line 145, in cached_property_wrapper\n",
      "    value = obj.__dict__[self.func.__name__] = self.func(obj)\n",
      "  File \"/usr/local/Caskroom/miniconda/base/envs/cse-151b/lib/python3.10/site-packages/stack_data/core.py\", line 628, in executing_piece\n",
      "    return only(\n",
      "  File \"/usr/local/Caskroom/miniconda/base/envs/cse-151b/lib/python3.10/site-packages/executing/executing.py\", line 164, in only\n",
      "    raise NotOneValueFound('Expected one value, found 0')\n",
      "executing.executing.NotOneValueFound: Expected one value, found 0\n"
     ]
    }
   ],
   "source": [
    "from train import train\n",
    "\n",
    "train(model, train_dataset, val_dataset, c)"
   ],
   "metadata": {
    "collapsed": false
   }
  },
  {
   "cell_type": "code",
   "execution_count": 220,
   "outputs": [],
   "source": [
    "r = Regularization(\"L1\", 0.01)"
   ],
   "metadata": {
    "collapsed": false
   }
  },
  {
   "cell_type": "code",
   "execution_count": 224,
   "outputs": [
    {
     "data": {
      "text/plain": "array([0.01, 0.01, 0.01])"
     },
     "execution_count": 224,
     "metadata": {},
     "output_type": "execute_result"
    }
   ],
   "source": [
    "# r.forward(np.array([1, 2, 3]))\n",
    "r.backward(np.array([1, 2, 3]))"
   ],
   "metadata": {
    "collapsed": false
   }
  },
  {
   "cell_type": "code",
   "execution_count": null,
   "outputs": [],
   "source": [],
   "metadata": {
    "collapsed": false
   }
  }
 ],
 "metadata": {
  "kernelspec": {
   "display_name": "Python 3",
   "language": "python",
   "name": "python3"
  },
  "language_info": {
   "codemirror_mode": {
    "name": "ipython",
    "version": 2
   },
   "file_extension": ".py",
   "mimetype": "text/x-python",
   "name": "python",
   "nbconvert_exporter": "python",
   "pygments_lexer": "ipython2",
   "version": "2.7.6"
  }
 },
 "nbformat": 4,
 "nbformat_minor": 0
}
